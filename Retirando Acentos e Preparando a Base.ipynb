{
 "cells": [
  {
   "cell_type": "markdown",
   "metadata": {},
   "source": [
    "# Preparando a base de dados\n",
    "\n",
    "Essa é a primeira parte do trabalho de analisar as eleições estaduais de 2018. Nesse notebook, vamos pegar a base de dados original do TSE, selecionar os candidatos que atingiram uma votação igual a pelo menos 10% da quota eleitoral e corrigir o problema de formatação dos acentos ortográficos.\n",
    "\n",
    "O próximo passo, que é limpar a base, rodar o modelo estatístico e analisar os resultados estarão em outro notebook."
   ]
  },
  {
   "cell_type": "code",
   "execution_count": 1,
   "metadata": {
    "ExecuteTime": {
     "end_time": "2020-06-25T17:18:01.728228Z",
     "start_time": "2020-06-25T17:18:00.779534Z"
    }
   },
   "outputs": [],
   "source": [
    "#importing libraries\n",
    "\n",
    "import numpy as np\n",
    "import pandas as pd"
   ]
  },
  {
   "cell_type": "code",
   "execution_count": 2,
   "metadata": {
    "ExecuteTime": {
     "end_time": "2020-06-25T17:18:14.064188Z",
     "start_time": "2020-06-25T17:18:01.731224Z"
    }
   },
   "outputs": [],
   "source": [
    "#importando a base\n",
    "df = pd.read_csv(\".\\\\Bases de dado intermediárias\\\\sp2018.df.csv\")"
   ]
  },
  {
   "cell_type": "code",
   "execution_count": 3,
   "metadata": {
    "ExecuteTime": {
     "end_time": "2020-06-25T17:18:14.266123Z",
     "start_time": "2020-06-25T17:18:14.066188Z"
    }
   },
   "outputs": [],
   "source": [
    "# vamos selecionar os candidatos que atingiram uma votação igual a pelo menos 10% da quota eleitoral:\n",
    "df = df[df['qe.10'] == 1]"
   ]
  },
  {
   "cell_type": "code",
   "execution_count": 4,
   "metadata": {
    "ExecuteTime": {
     "end_time": "2020-06-25T17:18:14.312108Z",
     "start_time": "2020-06-25T17:18:14.268122Z"
    }
   },
   "outputs": [
    {
     "data": {
      "text/html": [
       "<div>\n",
       "<style scoped>\n",
       "    .dataframe tbody tr th:only-of-type {\n",
       "        vertical-align: middle;\n",
       "    }\n",
       "\n",
       "    .dataframe tbody tr th {\n",
       "        vertical-align: top;\n",
       "    }\n",
       "\n",
       "    .dataframe thead th {\n",
       "        text-align: right;\n",
       "    }\n",
       "</style>\n",
       "<table border=\"1\" class=\"dataframe\">\n",
       "  <thead>\n",
       "    <tr style=\"text-align: right;\">\n",
       "      <th></th>\n",
       "      <th>Unnamed: 0</th>\n",
       "      <th>CD_MUNICIPIO</th>\n",
       "      <th>NM_MUNICIPIO</th>\n",
       "      <th>NM_CANDIDATO</th>\n",
       "      <th>SG_PARTIDO</th>\n",
       "      <th>NR_CANDIDATO</th>\n",
       "      <th>DS_SITUACAO_CANDIDATURA</th>\n",
       "      <th>DS_DETALHE_SITUACAO_CAND</th>\n",
       "      <th>DS_SIT_TOT_TURNO</th>\n",
       "      <th>votoscandmun</th>\n",
       "      <th>...</th>\n",
       "      <th>DESCRICAO_OCUPACAO</th>\n",
       "      <th>DESPESA_MAX_CAMPANHA</th>\n",
       "      <th>COD_SIT_TOT_TURNO</th>\n",
       "      <th>DESC_SIT_TOT_TURNO</th>\n",
       "      <th>SITUACAO_REELEICAO</th>\n",
       "      <th>SITUACAO_DECLARAR_BENS</th>\n",
       "      <th>NUMERO_PROTOCOLO_CANDIDATURA</th>\n",
       "      <th>NUMERO_PROCESSO</th>\n",
       "      <th>TITULO_CONFERIDO</th>\n",
       "      <th>qe.10</th>\n",
       "    </tr>\n",
       "  </thead>\n",
       "  <tbody>\n",
       "    <tr>\n",
       "      <td>3</td>\n",
       "      <td>4</td>\n",
       "      <td>61000</td>\n",
       "      <td>EUCLIDES DA CUNHA PAULISTA</td>\n",
       "      <td>AD&lt;c9&gt;RMIS MARINI JUNIOR</td>\n",
       "      <td>PSDB</td>\n",
       "      <td>4533</td>\n",
       "      <td>APTO</td>\n",
       "      <td>DEFERIDO</td>\n",
       "      <td>SUPLENTE</td>\n",
       "      <td>1</td>\n",
       "      <td>...</td>\n",
       "      <td>ECONOMISTA</td>\n",
       "      <td>0.0</td>\n",
       "      <td>5.0</td>\n",
       "      <td>SUPLENTE</td>\n",
       "      <td>N</td>\n",
       "      <td>S</td>\n",
       "      <td>-1.0</td>\n",
       "      <td>6.020899e+18</td>\n",
       "      <td>1.693398e+11</td>\n",
       "      <td>1</td>\n",
       "    </tr>\n",
       "    <tr>\n",
       "      <td>17</td>\n",
       "      <td>18</td>\n",
       "      <td>61000</td>\n",
       "      <td>EUCLIDES DA CUNHA PAULISTA</td>\n",
       "      <td>ADILSON BARROSO OLIVEIRA</td>\n",
       "      <td>PATRI</td>\n",
       "      <td>5151</td>\n",
       "      <td>APTO</td>\n",
       "      <td>DEFERIDO</td>\n",
       "      <td>N&lt;c3&gt;O ELEITO</td>\n",
       "      <td>0</td>\n",
       "      <td>...</td>\n",
       "      <td>EMPRES&lt;c1&gt;RIO</td>\n",
       "      <td>0.0</td>\n",
       "      <td>4.0</td>\n",
       "      <td>N&lt;c3&gt;O ELEITO</td>\n",
       "      <td>N</td>\n",
       "      <td>S</td>\n",
       "      <td>-1.0</td>\n",
       "      <td>6.016646e+18</td>\n",
       "      <td>4.814854e+10</td>\n",
       "      <td>1</td>\n",
       "    </tr>\n",
       "    <tr>\n",
       "      <td>23</td>\n",
       "      <td>24</td>\n",
       "      <td>61000</td>\n",
       "      <td>EUCLIDES DA CUNHA PAULISTA</td>\n",
       "      <td>ADRIANA MIGUEL VENTURA</td>\n",
       "      <td>NOVO</td>\n",
       "      <td>3050</td>\n",
       "      <td>APTO</td>\n",
       "      <td>DEFERIDO</td>\n",
       "      <td>ELEITO POR QP</td>\n",
       "      <td>0</td>\n",
       "      <td>...</td>\n",
       "      <td>ADMINISTRADOR</td>\n",
       "      <td>0.0</td>\n",
       "      <td>2.0</td>\n",
       "      <td>ELEITO POR QP</td>\n",
       "      <td>N</td>\n",
       "      <td>S</td>\n",
       "      <td>-1.0</td>\n",
       "      <td>6.015546e+18</td>\n",
       "      <td>1.672880e+11</td>\n",
       "      <td>1</td>\n",
       "    </tr>\n",
       "    <tr>\n",
       "      <td>29</td>\n",
       "      <td>30</td>\n",
       "      <td>61000</td>\n",
       "      <td>EUCLIDES DA CUNHA PAULISTA</td>\n",
       "      <td>ADRIANO ELI CORR&lt;ca&gt;A</td>\n",
       "      <td>DEM</td>\n",
       "      <td>2577</td>\n",
       "      <td>APTO</td>\n",
       "      <td>DEFERIDO</td>\n",
       "      <td>ELEITO POR M&lt;c9&gt;DIA</td>\n",
       "      <td>62</td>\n",
       "      <td>...</td>\n",
       "      <td>DEPUTADO</td>\n",
       "      <td>0.0</td>\n",
       "      <td>3.0</td>\n",
       "      <td>ELEITO POR M&lt;c9&gt;DIA</td>\n",
       "      <td>S</td>\n",
       "      <td>S</td>\n",
       "      <td>-1.0</td>\n",
       "      <td>6.020907e+18</td>\n",
       "      <td>2.542277e+11</td>\n",
       "      <td>1</td>\n",
       "    </tr>\n",
       "    <tr>\n",
       "      <td>39</td>\n",
       "      <td>40</td>\n",
       "      <td>61000</td>\n",
       "      <td>EUCLIDES DA CUNHA PAULISTA</td>\n",
       "      <td>AILTON JOS&lt;c9&gt; DE LIMA</td>\n",
       "      <td>PSD</td>\n",
       "      <td>5545</td>\n",
       "      <td>APTO</td>\n",
       "      <td>DEFERIDO</td>\n",
       "      <td>SUPLENTE</td>\n",
       "      <td>0</td>\n",
       "      <td>...</td>\n",
       "      <td>EMPRES&lt;c1&gt;RIO</td>\n",
       "      <td>0.0</td>\n",
       "      <td>5.0</td>\n",
       "      <td>SUPLENTE</td>\n",
       "      <td>N</td>\n",
       "      <td>S</td>\n",
       "      <td>-1.0</td>\n",
       "      <td>6.020916e+18</td>\n",
       "      <td>1.276201e+11</td>\n",
       "      <td>1</td>\n",
       "    </tr>\n",
       "  </tbody>\n",
       "</table>\n",
       "<p>5 rows × 53 columns</p>\n",
       "</div>"
      ],
      "text/plain": [
       "    Unnamed: 0  CD_MUNICIPIO                NM_MUNICIPIO  \\\n",
       "3            4         61000  EUCLIDES DA CUNHA PAULISTA   \n",
       "17          18         61000  EUCLIDES DA CUNHA PAULISTA   \n",
       "23          24         61000  EUCLIDES DA CUNHA PAULISTA   \n",
       "29          30         61000  EUCLIDES DA CUNHA PAULISTA   \n",
       "39          40         61000  EUCLIDES DA CUNHA PAULISTA   \n",
       "\n",
       "                NM_CANDIDATO SG_PARTIDO  NR_CANDIDATO DS_SITUACAO_CANDIDATURA  \\\n",
       "3   AD<c9>RMIS MARINI JUNIOR       PSDB          4533                    APTO   \n",
       "17  ADILSON BARROSO OLIVEIRA      PATRI          5151                    APTO   \n",
       "23    ADRIANA MIGUEL VENTURA       NOVO          3050                    APTO   \n",
       "29     ADRIANO ELI CORR<ca>A        DEM          2577                    APTO   \n",
       "39    AILTON JOS<c9> DE LIMA        PSD          5545                    APTO   \n",
       "\n",
       "   DS_DETALHE_SITUACAO_CAND     DS_SIT_TOT_TURNO  votoscandmun  ...  \\\n",
       "3                  DEFERIDO             SUPLENTE             1  ...   \n",
       "17                 DEFERIDO        N<c3>O ELEITO             0  ...   \n",
       "23                 DEFERIDO        ELEITO POR QP             0  ...   \n",
       "29                 DEFERIDO  ELEITO POR M<c9>DIA            62  ...   \n",
       "39                 DEFERIDO             SUPLENTE             0  ...   \n",
       "\n",
       "    DESCRICAO_OCUPACAO  DESPESA_MAX_CAMPANHA  COD_SIT_TOT_TURNO  \\\n",
       "3           ECONOMISTA                   0.0                5.0   \n",
       "17       EMPRES<c1>RIO                   0.0                4.0   \n",
       "23       ADMINISTRADOR                   0.0                2.0   \n",
       "29            DEPUTADO                   0.0                3.0   \n",
       "39       EMPRES<c1>RIO                   0.0                5.0   \n",
       "\n",
       "     DESC_SIT_TOT_TURNO SITUACAO_REELEICAO SITUACAO_DECLARAR_BENS  \\\n",
       "3              SUPLENTE                  N                      S   \n",
       "17        N<c3>O ELEITO                  N                      S   \n",
       "23        ELEITO POR QP                  N                      S   \n",
       "29  ELEITO POR M<c9>DIA                  S                      S   \n",
       "39             SUPLENTE                  N                      S   \n",
       "\n",
       "   NUMERO_PROTOCOLO_CANDIDATURA  NUMERO_PROCESSO TITULO_CONFERIDO qe.10  \n",
       "3                          -1.0     6.020899e+18     1.693398e+11     1  \n",
       "17                         -1.0     6.016646e+18     4.814854e+10     1  \n",
       "23                         -1.0     6.015546e+18     1.672880e+11     1  \n",
       "29                         -1.0     6.020907e+18     2.542277e+11     1  \n",
       "39                         -1.0     6.020916e+18     1.276201e+11     1  \n",
       "\n",
       "[5 rows x 53 columns]"
      ]
     },
     "execution_count": 4,
     "metadata": {},
     "output_type": "execute_result"
    }
   ],
   "source": [
    "# veja como aparece códigos como <c9> e <c7> nos nomes dos candidatos\n",
    "df.head()"
   ]
  },
  {
   "cell_type": "markdown",
   "metadata": {},
   "source": [
    "#### Eu não encontrei em nenhum lugar da internet um correspondente entre os códigos que aparecem na base de dados e os acentos ortográficos. Assim sendo, eu tive que ir na raça, descobrindo os acentos, colocando em um dicionário, substituindo todo mundo e vendo se sobrou algum."
   ]
  },
  {
   "cell_type": "code",
   "execution_count": 5,
   "metadata": {
    "ExecuteTime": {
     "end_time": "2020-06-25T17:18:14.320105Z",
     "start_time": "2020-06-25T17:18:14.314108Z"
    }
   },
   "outputs": [],
   "source": [
    "# vendo a base de dados, eu consegui inicialmente deduzir os seguintes acentos:\n",
    "acentos = {'<cd>' : 'Í',\n",
    "           \"<c9>\" : \"É\",\n",
    "           \"<c3>\" : \"Ã\",\n",
    "           \"<c1>\" : \"Á\",\n",
    "           \"<e7>\" : \"Ç\",\n",
    "           \"<f5>\" : \"Õ\",\n",
    "           \"<ca>\" : \"Ê\",\n",
    "           \"<c7>\" : \"Ç\",\n",
    "           '<d3>' : 'Ó'}"
   ]
  },
  {
   "cell_type": "markdown",
   "metadata": {},
   "source": [
    "#### Para substituir os valores dos acentos, temos que fazer um loop com todas as colunas. Como eu não encontrei uma forma de fazer um loop direto nas colunas, eu fiz um loop para printar os códigos que eu precisava e, em seguida, usei esse codigo:"
   ]
  },
  {
   "cell_type": "code",
   "execution_count": 6,
   "metadata": {
    "ExecuteTime": {
     "end_time": "2020-06-25T17:18:14.504049Z",
     "start_time": "2020-06-25T17:18:14.322105Z"
    },
    "scrolled": false
   },
   "outputs": [
    {
     "ename": "AttributeError",
     "evalue": "Can only use .str accessor with string values!",
     "output_type": "error",
     "traceback": [
      "\u001b[1;31m---------------------------------------------------------------------------\u001b[0m",
      "\u001b[1;31mAttributeError\u001b[0m                            Traceback (most recent call last)",
      "\u001b[1;32m<ipython-input-6-6e642ea23f1e>\u001b[0m in \u001b[0;36m<module>\u001b[1;34m\u001b[0m\n\u001b[0;32m      2\u001b[0m \u001b[1;32mfor\u001b[0m \u001b[0mi\u001b[0m \u001b[1;32min\u001b[0m \u001b[0mdf\u001b[0m\u001b[1;33m.\u001b[0m\u001b[0mcolumns\u001b[0m\u001b[1;33m:\u001b[0m\u001b[1;33m\u001b[0m\u001b[1;33m\u001b[0m\u001b[0m\n\u001b[0;32m      3\u001b[0m     \u001b[1;32mfor\u001b[0m \u001b[0mkey\u001b[0m\u001b[1;33m,\u001b[0m \u001b[0mvalue\u001b[0m \u001b[1;32min\u001b[0m \u001b[0macentos\u001b[0m\u001b[1;33m.\u001b[0m\u001b[0mitems\u001b[0m\u001b[1;33m(\u001b[0m\u001b[1;33m)\u001b[0m\u001b[1;33m:\u001b[0m\u001b[1;33m\u001b[0m\u001b[1;33m\u001b[0m\u001b[0m\n\u001b[1;32m----> 4\u001b[1;33m         \u001b[0mdf\u001b[0m\u001b[1;33m.\u001b[0m\u001b[0mloc\u001b[0m\u001b[1;33m[\u001b[0m\u001b[1;33m:\u001b[0m\u001b[1;33m,\u001b[0m\u001b[0mi\u001b[0m\u001b[1;33m]\u001b[0m \u001b[1;33m=\u001b[0m \u001b[0mdf\u001b[0m\u001b[1;33m.\u001b[0m\u001b[0mloc\u001b[0m\u001b[1;33m[\u001b[0m\u001b[1;33m:\u001b[0m\u001b[1;33m,\u001b[0m\u001b[0mi\u001b[0m\u001b[1;33m]\u001b[0m\u001b[1;33m.\u001b[0m\u001b[0mstr\u001b[0m\u001b[1;33m.\u001b[0m\u001b[0mreplace\u001b[0m\u001b[1;33m(\u001b[0m\u001b[0mkey\u001b[0m\u001b[1;33m,\u001b[0m \u001b[0mvalue\u001b[0m\u001b[1;33m)\u001b[0m\u001b[1;33m\u001b[0m\u001b[1;33m\u001b[0m\u001b[0m\n\u001b[0m",
      "\u001b[1;32m~\\Anaconda3\\lib\\site-packages\\pandas\\core\\generic.py\u001b[0m in \u001b[0;36m__getattr__\u001b[1;34m(self, name)\u001b[0m\n\u001b[0;32m   5173\u001b[0m             \u001b[1;32mor\u001b[0m \u001b[0mname\u001b[0m \u001b[1;32min\u001b[0m \u001b[0mself\u001b[0m\u001b[1;33m.\u001b[0m\u001b[0m_accessors\u001b[0m\u001b[1;33m\u001b[0m\u001b[1;33m\u001b[0m\u001b[0m\n\u001b[0;32m   5174\u001b[0m         ):\n\u001b[1;32m-> 5175\u001b[1;33m             \u001b[1;32mreturn\u001b[0m \u001b[0mobject\u001b[0m\u001b[1;33m.\u001b[0m\u001b[0m__getattribute__\u001b[0m\u001b[1;33m(\u001b[0m\u001b[0mself\u001b[0m\u001b[1;33m,\u001b[0m \u001b[0mname\u001b[0m\u001b[1;33m)\u001b[0m\u001b[1;33m\u001b[0m\u001b[1;33m\u001b[0m\u001b[0m\n\u001b[0m\u001b[0;32m   5176\u001b[0m         \u001b[1;32melse\u001b[0m\u001b[1;33m:\u001b[0m\u001b[1;33m\u001b[0m\u001b[1;33m\u001b[0m\u001b[0m\n\u001b[0;32m   5177\u001b[0m             \u001b[1;32mif\u001b[0m \u001b[0mself\u001b[0m\u001b[1;33m.\u001b[0m\u001b[0m_info_axis\u001b[0m\u001b[1;33m.\u001b[0m\u001b[0m_can_hold_identifiers_and_holds_name\u001b[0m\u001b[1;33m(\u001b[0m\u001b[0mname\u001b[0m\u001b[1;33m)\u001b[0m\u001b[1;33m:\u001b[0m\u001b[1;33m\u001b[0m\u001b[1;33m\u001b[0m\u001b[0m\n",
      "\u001b[1;32m~\\Anaconda3\\lib\\site-packages\\pandas\\core\\accessor.py\u001b[0m in \u001b[0;36m__get__\u001b[1;34m(self, obj, cls)\u001b[0m\n\u001b[0;32m    173\u001b[0m             \u001b[1;31m# we're accessing the attribute of the class, i.e., Dataset.geo\u001b[0m\u001b[1;33m\u001b[0m\u001b[1;33m\u001b[0m\u001b[1;33m\u001b[0m\u001b[0m\n\u001b[0;32m    174\u001b[0m             \u001b[1;32mreturn\u001b[0m \u001b[0mself\u001b[0m\u001b[1;33m.\u001b[0m\u001b[0m_accessor\u001b[0m\u001b[1;33m\u001b[0m\u001b[1;33m\u001b[0m\u001b[0m\n\u001b[1;32m--> 175\u001b[1;33m         \u001b[0maccessor_obj\u001b[0m \u001b[1;33m=\u001b[0m \u001b[0mself\u001b[0m\u001b[1;33m.\u001b[0m\u001b[0m_accessor\u001b[0m\u001b[1;33m(\u001b[0m\u001b[0mobj\u001b[0m\u001b[1;33m)\u001b[0m\u001b[1;33m\u001b[0m\u001b[1;33m\u001b[0m\u001b[0m\n\u001b[0m\u001b[0;32m    176\u001b[0m         \u001b[1;31m# Replace the property with the accessor object. Inspired by:\u001b[0m\u001b[1;33m\u001b[0m\u001b[1;33m\u001b[0m\u001b[1;33m\u001b[0m\u001b[0m\n\u001b[0;32m    177\u001b[0m         \u001b[1;31m# http://www.pydanny.com/cached-property.html\u001b[0m\u001b[1;33m\u001b[0m\u001b[1;33m\u001b[0m\u001b[1;33m\u001b[0m\u001b[0m\n",
      "\u001b[1;32m~\\Anaconda3\\lib\\site-packages\\pandas\\core\\strings.py\u001b[0m in \u001b[0;36m__init__\u001b[1;34m(self, data)\u001b[0m\n\u001b[0;32m   1915\u001b[0m \u001b[1;33m\u001b[0m\u001b[0m\n\u001b[0;32m   1916\u001b[0m     \u001b[1;32mdef\u001b[0m \u001b[0m__init__\u001b[0m\u001b[1;33m(\u001b[0m\u001b[0mself\u001b[0m\u001b[1;33m,\u001b[0m \u001b[0mdata\u001b[0m\u001b[1;33m)\u001b[0m\u001b[1;33m:\u001b[0m\u001b[1;33m\u001b[0m\u001b[1;33m\u001b[0m\u001b[0m\n\u001b[1;32m-> 1917\u001b[1;33m         \u001b[0mself\u001b[0m\u001b[1;33m.\u001b[0m\u001b[0m_inferred_dtype\u001b[0m \u001b[1;33m=\u001b[0m \u001b[0mself\u001b[0m\u001b[1;33m.\u001b[0m\u001b[0m_validate\u001b[0m\u001b[1;33m(\u001b[0m\u001b[0mdata\u001b[0m\u001b[1;33m)\u001b[0m\u001b[1;33m\u001b[0m\u001b[1;33m\u001b[0m\u001b[0m\n\u001b[0m\u001b[0;32m   1918\u001b[0m         \u001b[0mself\u001b[0m\u001b[1;33m.\u001b[0m\u001b[0m_is_categorical\u001b[0m \u001b[1;33m=\u001b[0m \u001b[0mis_categorical_dtype\u001b[0m\u001b[1;33m(\u001b[0m\u001b[0mdata\u001b[0m\u001b[1;33m)\u001b[0m\u001b[1;33m\u001b[0m\u001b[1;33m\u001b[0m\u001b[0m\n\u001b[0;32m   1919\u001b[0m \u001b[1;33m\u001b[0m\u001b[0m\n",
      "\u001b[1;32m~\\Anaconda3\\lib\\site-packages\\pandas\\core\\strings.py\u001b[0m in \u001b[0;36m_validate\u001b[1;34m(data)\u001b[0m\n\u001b[0;32m   1965\u001b[0m \u001b[1;33m\u001b[0m\u001b[0m\n\u001b[0;32m   1966\u001b[0m         \u001b[1;32mif\u001b[0m \u001b[0minferred_dtype\u001b[0m \u001b[1;32mnot\u001b[0m \u001b[1;32min\u001b[0m \u001b[0mallowed_types\u001b[0m\u001b[1;33m:\u001b[0m\u001b[1;33m\u001b[0m\u001b[1;33m\u001b[0m\u001b[0m\n\u001b[1;32m-> 1967\u001b[1;33m             \u001b[1;32mraise\u001b[0m \u001b[0mAttributeError\u001b[0m\u001b[1;33m(\u001b[0m\u001b[1;34m\"Can only use .str accessor with string \"\u001b[0m \u001b[1;34m\"values!\"\u001b[0m\u001b[1;33m)\u001b[0m\u001b[1;33m\u001b[0m\u001b[1;33m\u001b[0m\u001b[0m\n\u001b[0m\u001b[0;32m   1968\u001b[0m         \u001b[1;32mreturn\u001b[0m \u001b[0minferred_dtype\u001b[0m\u001b[1;33m\u001b[0m\u001b[1;33m\u001b[0m\u001b[0m\n\u001b[0;32m   1969\u001b[0m \u001b[1;33m\u001b[0m\u001b[0m\n",
      "\u001b[1;31mAttributeError\u001b[0m: Can only use .str accessor with string values!"
     ]
    }
   ],
   "source": [
    "# loop que, para cada coluna, substitui os acentos do dicionário \"acentos\"\n",
    "for i in df.columns:\n",
    "    for key, value in acentos.items():\n",
    "        df.loc[:,i] = df.loc[:,i].str.replace(key, value)"
   ]
  },
  {
   "cell_type": "markdown",
   "metadata": {},
   "source": [
    "#### Deu errado porque o .str só funciona com colunas que sejam string. Assim sendo, vamos procurar as colunas que são de texto:"
   ]
  },
  {
   "cell_type": "code",
   "execution_count": 7,
   "metadata": {
    "ExecuteTime": {
     "end_time": "2020-06-25T17:19:09.101142Z",
     "start_time": "2020-06-25T17:19:08.947195Z"
    },
    "scrolled": true
   },
   "outputs": [
    {
     "name": "stdout",
     "output_type": "stream",
     "text": [
      "<class 'pandas.core.frame.DataFrame'>\n",
      "Int64Index: 87075 entries, 3 to 1022939\n",
      "Data columns (total 53 columns):\n",
      "Unnamed: 0                        87075 non-null int64\n",
      "CD_MUNICIPIO                      87075 non-null int64\n",
      "NM_MUNICIPIO                      87075 non-null object\n",
      "NM_CANDIDATO                      87075 non-null object\n",
      "SG_PARTIDO                        87075 non-null object\n",
      "NR_CANDIDATO                      87075 non-null int64\n",
      "DS_SITUACAO_CANDIDATURA           87075 non-null object\n",
      "DS_DETALHE_SITUACAO_CAND          87075 non-null object\n",
      "DS_SIT_TOT_TURNO                  87075 non-null object\n",
      "votoscandmun                      87075 non-null int64\n",
      "votoscanduf                       87075 non-null int64\n",
      "ANO_ELEICAO                       87075 non-null float64\n",
      "COD_TIPO_ELEICAO                  87075 non-null float64\n",
      "DESCRICAO_ELEICAO                 87075 non-null object\n",
      "SIGLA_UF                          87075 non-null object\n",
      "DESCRICAO_UE                      87075 non-null object\n",
      "DESCRICAO_CARGO                   87075 non-null object\n",
      "SEQUENCIAL_CANDIDATO              87075 non-null float64\n",
      "NOME_CANDIDATO                    87075 non-null object\n",
      "NOME_URNA_CANDIDATO               87075 non-null object\n",
      "CPF_CANDIDATO                     87075 non-null float64\n",
      "DES_SITUACAO_CANDIDATURA          87075 non-null object\n",
      "DES_DETALHE_SITUACAO_CAND         87075 non-null object\n",
      "SIGLA_PARTIDO                     87075 non-null object\n",
      "NOME_PARTIDO                      87075 non-null object\n",
      "NOME_COLIGACAO                    87075 non-null object\n",
      "COMPOSICAO_LEGENDA                87075 non-null object\n",
      "DESCRICAO_NACIONALIDADE           87075 non-null object\n",
      "SIGLA_UF_NASCIMENTO               87075 non-null object\n",
      "CODIGO_MUNICIPIO_NASCIMENTO       87075 non-null float64\n",
      "NOME_MUNICIPIO_NASCIMENTO         87075 non-null object\n",
      "DATA_NASCIMENTO                   87075 non-null object\n",
      "IDADE_DATA_POSSE                  87075 non-null float64\n",
      "NUM_TITULO_ELEITORAL_CANDIDATO    87075 non-null float64\n",
      "CODIGO_SEXO                       87075 non-null float64\n",
      "DESCRICAO_SEXO                    87075 non-null object\n",
      "COD_GRAU_INSTRUCAO                87075 non-null float64\n",
      "DESCRICAO_GRAU_INSTRUCAO          87075 non-null object\n",
      "CODIGO_ESTADO_CIVIL               87075 non-null float64\n",
      "DESCRICAO_ESTADO_CIVIL            87075 non-null object\n",
      "CODIGO_COR_RACA                   87075 non-null float64\n",
      "DESCRICAO_COR_RACA                87075 non-null object\n",
      "CODIGO_OCUPACAO                   87075 non-null float64\n",
      "DESCRICAO_OCUPACAO                87075 non-null object\n",
      "DESPESA_MAX_CAMPANHA              87075 non-null float64\n",
      "COD_SIT_TOT_TURNO                 87075 non-null float64\n",
      "DESC_SIT_TOT_TURNO                87075 non-null object\n",
      "SITUACAO_REELEICAO                87075 non-null object\n",
      "SITUACAO_DECLARAR_BENS            87075 non-null object\n",
      "NUMERO_PROTOCOLO_CANDIDATURA      87075 non-null float64\n",
      "NUMERO_PROCESSO                   87075 non-null float64\n",
      "TITULO_CONFERIDO                  87075 non-null float64\n",
      "qe.10                             87075 non-null int64\n",
      "dtypes: float64(17), int64(6), object(30)\n",
      "memory usage: 35.9+ MB\n"
     ]
    }
   ],
   "source": [
    "df.info()"
   ]
  },
  {
   "cell_type": "markdown",
   "metadata": {},
   "source": [
    "#### Veja que do total de 53 colunas, 30 são colunas de texto. Vamos usar o comando abaixo para fazermos uma lista de colunas de texto:"
   ]
  },
  {
   "cell_type": "code",
   "execution_count": 8,
   "metadata": {
    "ExecuteTime": {
     "end_time": "2020-06-25T17:19:10.221112Z",
     "start_time": "2020-06-25T17:19:10.171130Z"
    }
   },
   "outputs": [],
   "source": [
    "# fazendo uma lista das colunas que são objeto\n",
    "colunas_texto = df.select_dtypes(include='object').columns"
   ]
  },
  {
   "cell_type": "code",
   "execution_count": 9,
   "metadata": {
    "ExecuteTime": {
     "end_time": "2020-06-25T17:19:28.985160Z",
     "start_time": "2020-06-25T17:19:10.543180Z"
    }
   },
   "outputs": [],
   "source": [
    "# loop que, para cada coluna, substitui os acentos do dicionário \"acentos\"\n",
    "for i in colunas_texto:\n",
    "    for key, value in acentos.items():\n",
    "        df.loc[:,i] = df.loc[:,i].str.replace(key, value)"
   ]
  },
  {
   "cell_type": "code",
   "execution_count": 10,
   "metadata": {
    "ExecuteTime": {
     "end_time": "2020-06-25T17:19:29.055126Z",
     "start_time": "2020-06-25T17:19:28.988147Z"
    }
   },
   "outputs": [
    {
     "data": {
      "text/html": [
       "<div>\n",
       "<style scoped>\n",
       "    .dataframe tbody tr th:only-of-type {\n",
       "        vertical-align: middle;\n",
       "    }\n",
       "\n",
       "    .dataframe tbody tr th {\n",
       "        vertical-align: top;\n",
       "    }\n",
       "\n",
       "    .dataframe thead th {\n",
       "        text-align: right;\n",
       "    }\n",
       "</style>\n",
       "<table border=\"1\" class=\"dataframe\">\n",
       "  <thead>\n",
       "    <tr style=\"text-align: right;\">\n",
       "      <th></th>\n",
       "      <th>NM_MUNICIPIO</th>\n",
       "      <th>NM_CANDIDATO</th>\n",
       "      <th>SG_PARTIDO</th>\n",
       "      <th>DS_SITUACAO_CANDIDATURA</th>\n",
       "      <th>DS_DETALHE_SITUACAO_CAND</th>\n",
       "      <th>DS_SIT_TOT_TURNO</th>\n",
       "      <th>DESCRICAO_ELEICAO</th>\n",
       "      <th>SIGLA_UF</th>\n",
       "      <th>DESCRICAO_UE</th>\n",
       "      <th>DESCRICAO_CARGO</th>\n",
       "      <th>...</th>\n",
       "      <th>NOME_MUNICIPIO_NASCIMENTO</th>\n",
       "      <th>DATA_NASCIMENTO</th>\n",
       "      <th>DESCRICAO_SEXO</th>\n",
       "      <th>DESCRICAO_GRAU_INSTRUCAO</th>\n",
       "      <th>DESCRICAO_ESTADO_CIVIL</th>\n",
       "      <th>DESCRICAO_COR_RACA</th>\n",
       "      <th>DESCRICAO_OCUPACAO</th>\n",
       "      <th>DESC_SIT_TOT_TURNO</th>\n",
       "      <th>SITUACAO_REELEICAO</th>\n",
       "      <th>SITUACAO_DECLARAR_BENS</th>\n",
       "    </tr>\n",
       "  </thead>\n",
       "  <tbody>\n",
       "    <tr>\n",
       "      <td>3</td>\n",
       "      <td>EUCLIDES DA CUNHA PAULISTA</td>\n",
       "      <td>ADÉRMIS MARINI JUNIOR</td>\n",
       "      <td>PSDB</td>\n",
       "      <td>APTO</td>\n",
       "      <td>DEFERIDO</td>\n",
       "      <td>SUPLENTE</td>\n",
       "      <td>EleiÇÕes Gerais Estaduais 2018</td>\n",
       "      <td>SP</td>\n",
       "      <td>SÃO PAULO</td>\n",
       "      <td>DEPUTADO FEDERAL</td>\n",
       "      <td>...</td>\n",
       "      <td>FRANCA</td>\n",
       "      <td>18/07/1969</td>\n",
       "      <td>MASCULINO</td>\n",
       "      <td>SUPERIOR COMPLETO</td>\n",
       "      <td>CASADO(A)</td>\n",
       "      <td>BRANCA</td>\n",
       "      <td>ECONOMISTA</td>\n",
       "      <td>SUPLENTE</td>\n",
       "      <td>N</td>\n",
       "      <td>S</td>\n",
       "    </tr>\n",
       "    <tr>\n",
       "      <td>17</td>\n",
       "      <td>EUCLIDES DA CUNHA PAULISTA</td>\n",
       "      <td>ADILSON BARROSO OLIVEIRA</td>\n",
       "      <td>PATRI</td>\n",
       "      <td>APTO</td>\n",
       "      <td>DEFERIDO</td>\n",
       "      <td>NÃO ELEITO</td>\n",
       "      <td>EleiÇÕes Gerais Estaduais 2018</td>\n",
       "      <td>SP</td>\n",
       "      <td>SÃO PAULO</td>\n",
       "      <td>DEPUTADO FEDERAL</td>\n",
       "      <td>...</td>\n",
       "      <td>MINAS NOVAS</td>\n",
       "      <td>14/06/1964</td>\n",
       "      <td>MASCULINO</td>\n",
       "      <td>SUPERIOR COMPLETO</td>\n",
       "      <td>CASADO(A)</td>\n",
       "      <td>PARDA</td>\n",
       "      <td>EMPRESÁRIO</td>\n",
       "      <td>NÃO ELEITO</td>\n",
       "      <td>N</td>\n",
       "      <td>S</td>\n",
       "    </tr>\n",
       "    <tr>\n",
       "      <td>23</td>\n",
       "      <td>EUCLIDES DA CUNHA PAULISTA</td>\n",
       "      <td>ADRIANA MIGUEL VENTURA</td>\n",
       "      <td>NOVO</td>\n",
       "      <td>APTO</td>\n",
       "      <td>DEFERIDO</td>\n",
       "      <td>ELEITO POR QP</td>\n",
       "      <td>EleiÇÕes Gerais Estaduais 2018</td>\n",
       "      <td>SP</td>\n",
       "      <td>SÃO PAULO</td>\n",
       "      <td>DEPUTADO FEDERAL</td>\n",
       "      <td>...</td>\n",
       "      <td>SÃO PAULO</td>\n",
       "      <td>06/03/1969</td>\n",
       "      <td>FEMININO</td>\n",
       "      <td>SUPERIOR COMPLETO</td>\n",
       "      <td>CASADO(A)</td>\n",
       "      <td>BRANCA</td>\n",
       "      <td>ADMINISTRADOR</td>\n",
       "      <td>ELEITO POR QP</td>\n",
       "      <td>N</td>\n",
       "      <td>S</td>\n",
       "    </tr>\n",
       "    <tr>\n",
       "      <td>29</td>\n",
       "      <td>EUCLIDES DA CUNHA PAULISTA</td>\n",
       "      <td>ADRIANO ELI CORRÊA</td>\n",
       "      <td>DEM</td>\n",
       "      <td>APTO</td>\n",
       "      <td>DEFERIDO</td>\n",
       "      <td>ELEITO POR MÉDIA</td>\n",
       "      <td>EleiÇÕes Gerais Estaduais 2018</td>\n",
       "      <td>SP</td>\n",
       "      <td>SÃO PAULO</td>\n",
       "      <td>DEPUTADO FEDERAL</td>\n",
       "      <td>...</td>\n",
       "      <td>SÃO PAULO</td>\n",
       "      <td>13/01/1976</td>\n",
       "      <td>MASCULINO</td>\n",
       "      <td>SUPERIOR COMPLETO</td>\n",
       "      <td>CASADO(A)</td>\n",
       "      <td>BRANCA</td>\n",
       "      <td>DEPUTADO</td>\n",
       "      <td>ELEITO POR MÉDIA</td>\n",
       "      <td>S</td>\n",
       "      <td>S</td>\n",
       "    </tr>\n",
       "    <tr>\n",
       "      <td>39</td>\n",
       "      <td>EUCLIDES DA CUNHA PAULISTA</td>\n",
       "      <td>AILTON JOSÉ DE LIMA</td>\n",
       "      <td>PSD</td>\n",
       "      <td>APTO</td>\n",
       "      <td>DEFERIDO</td>\n",
       "      <td>SUPLENTE</td>\n",
       "      <td>EleiÇÕes Gerais Estaduais 2018</td>\n",
       "      <td>SP</td>\n",
       "      <td>SÃO PAULO</td>\n",
       "      <td>DEPUTADO FEDERAL</td>\n",
       "      <td>...</td>\n",
       "      <td>INAJÁ</td>\n",
       "      <td>27/10/1965</td>\n",
       "      <td>MASCULINO</td>\n",
       "      <td>ENSINO MÉDIO COMPLETO</td>\n",
       "      <td>CASADO(A)</td>\n",
       "      <td>PARDA</td>\n",
       "      <td>EMPRESÁRIO</td>\n",
       "      <td>SUPLENTE</td>\n",
       "      <td>N</td>\n",
       "      <td>S</td>\n",
       "    </tr>\n",
       "  </tbody>\n",
       "</table>\n",
       "<p>5 rows × 30 columns</p>\n",
       "</div>"
      ],
      "text/plain": [
       "                  NM_MUNICIPIO              NM_CANDIDATO SG_PARTIDO  \\\n",
       "3   EUCLIDES DA CUNHA PAULISTA     ADÉRMIS MARINI JUNIOR       PSDB   \n",
       "17  EUCLIDES DA CUNHA PAULISTA  ADILSON BARROSO OLIVEIRA      PATRI   \n",
       "23  EUCLIDES DA CUNHA PAULISTA    ADRIANA MIGUEL VENTURA       NOVO   \n",
       "29  EUCLIDES DA CUNHA PAULISTA        ADRIANO ELI CORRÊA        DEM   \n",
       "39  EUCLIDES DA CUNHA PAULISTA       AILTON JOSÉ DE LIMA        PSD   \n",
       "\n",
       "   DS_SITUACAO_CANDIDATURA DS_DETALHE_SITUACAO_CAND  DS_SIT_TOT_TURNO  \\\n",
       "3                     APTO                 DEFERIDO          SUPLENTE   \n",
       "17                    APTO                 DEFERIDO        NÃO ELEITO   \n",
       "23                    APTO                 DEFERIDO     ELEITO POR QP   \n",
       "29                    APTO                 DEFERIDO  ELEITO POR MÉDIA   \n",
       "39                    APTO                 DEFERIDO          SUPLENTE   \n",
       "\n",
       "                 DESCRICAO_ELEICAO SIGLA_UF DESCRICAO_UE   DESCRICAO_CARGO  \\\n",
       "3   EleiÇÕes Gerais Estaduais 2018       SP    SÃO PAULO  DEPUTADO FEDERAL   \n",
       "17  EleiÇÕes Gerais Estaduais 2018       SP    SÃO PAULO  DEPUTADO FEDERAL   \n",
       "23  EleiÇÕes Gerais Estaduais 2018       SP    SÃO PAULO  DEPUTADO FEDERAL   \n",
       "29  EleiÇÕes Gerais Estaduais 2018       SP    SÃO PAULO  DEPUTADO FEDERAL   \n",
       "39  EleiÇÕes Gerais Estaduais 2018       SP    SÃO PAULO  DEPUTADO FEDERAL   \n",
       "\n",
       "    ... NOME_MUNICIPIO_NASCIMENTO DATA_NASCIMENTO DESCRICAO_SEXO  \\\n",
       "3   ...                    FRANCA      18/07/1969      MASCULINO   \n",
       "17  ...               MINAS NOVAS      14/06/1964      MASCULINO   \n",
       "23  ...                 SÃO PAULO      06/03/1969       FEMININO   \n",
       "29  ...                 SÃO PAULO      13/01/1976      MASCULINO   \n",
       "39  ...                     INAJÁ      27/10/1965      MASCULINO   \n",
       "\n",
       "   DESCRICAO_GRAU_INSTRUCAO DESCRICAO_ESTADO_CIVIL DESCRICAO_COR_RACA  \\\n",
       "3         SUPERIOR COMPLETO              CASADO(A)             BRANCA   \n",
       "17        SUPERIOR COMPLETO              CASADO(A)              PARDA   \n",
       "23        SUPERIOR COMPLETO              CASADO(A)             BRANCA   \n",
       "29        SUPERIOR COMPLETO              CASADO(A)             BRANCA   \n",
       "39    ENSINO MÉDIO COMPLETO              CASADO(A)              PARDA   \n",
       "\n",
       "   DESCRICAO_OCUPACAO DESC_SIT_TOT_TURNO SITUACAO_REELEICAO  \\\n",
       "3          ECONOMISTA           SUPLENTE                  N   \n",
       "17         EMPRESÁRIO         NÃO ELEITO                  N   \n",
       "23      ADMINISTRADOR      ELEITO POR QP                  N   \n",
       "29           DEPUTADO   ELEITO POR MÉDIA                  S   \n",
       "39         EMPRESÁRIO           SUPLENTE                  N   \n",
       "\n",
       "   SITUACAO_DECLARAR_BENS  \n",
       "3                       S  \n",
       "17                      S  \n",
       "23                      S  \n",
       "29                      S  \n",
       "39                      S  \n",
       "\n",
       "[5 rows x 30 columns]"
      ]
     },
     "execution_count": 10,
     "metadata": {},
     "output_type": "execute_result"
    }
   ],
   "source": [
    "# vamos ver o resultado\n",
    "df[colunas_texto].head()"
   ]
  },
  {
   "cell_type": "markdown",
   "metadata": {},
   "source": [
    "#### Agora vamos verificar se sobrou alguma linha com código ao invés de acento"
   ]
  },
  {
   "cell_type": "code",
   "execution_count": 11,
   "metadata": {
    "ExecuteTime": {
     "end_time": "2020-06-25T17:19:29.299050Z",
     "start_time": "2020-06-25T17:19:29.059124Z"
    },
    "scrolled": true
   },
   "outputs": [],
   "source": [
    "# vamos fazer uma lista dos nomes\n",
    "\n",
    "nomes = []\n",
    "\n",
    "for coluna in colunas_texto:\n",
    "    nomes.append(df.loc[:,coluna].unique())\n",
    "\n",
    "# planificando a lista\n",
    "nomes = [x for l in nomes for x in l]"
   ]
  },
  {
   "cell_type": "code",
   "execution_count": 12,
   "metadata": {
    "ExecuteTime": {
     "end_time": "2020-06-25T17:19:29.310043Z",
     "start_time": "2020-06-25T17:19:29.301044Z"
    }
   },
   "outputs": [
    {
     "data": {
      "text/plain": [
       "array(['da', 'c2', 'd4', 'd5', 'e3'], dtype=object)"
      ]
     },
     "execution_count": 12,
     "metadata": {},
     "output_type": "execute_result"
    }
   ],
   "source": [
    "# como os códigos vem sempre em formato <código>, vamos procurar por \"<\"\n",
    "codigos = []\n",
    "lista = []\n",
    "\n",
    "for nome in nomes: \n",
    "    if \"<\" in nome:\n",
    "        codigos.append(nome.split(\"<\")[1].split('>')[0])\n",
    "        lista.append(nome)\n",
    "        \n",
    "pd.Series(codigos).unique()"
   ]
  },
  {
   "cell_type": "markdown",
   "metadata": {},
   "source": [
    "#### Sabemos agora que faltam os códigos 'da', 'c2', 'd4', 'd5', 'e3'"
   ]
  },
  {
   "cell_type": "code",
   "execution_count": 13,
   "metadata": {
    "ExecuteTime": {
     "end_time": "2020-06-25T17:19:29.322039Z",
     "start_time": "2020-06-25T17:19:29.313042Z"
    },
    "scrolled": true
   },
   "outputs": [
    {
     "data": {
      "text/plain": [
       "['EMBA<da>BA',\n",
       " 'ALVINL<c2>NDIA',\n",
       " 'SANTO ANT<d4>NIO DO ARACANGUÁ',\n",
       " 'ANAL<c2>NDIA',\n",
       " 'HORTOL<c2>NDIA',\n",
       " 'PRAT<c2>NIA',\n",
       " 'PAULIST<c2>NIA',\n",
       " 'BOM JESUS DOS PERD<d5>ES',\n",
       " 'BRA<da>NA',\n",
       " 'CABRE<da>VA',\n",
       " 'CAFEL<c2>NDIA',\n",
       " 'C<c2>NDIDO MOTA',\n",
       " 'C<c2>NDIDO RODRIGUES',\n",
       " 'COL<d4>MBIA',\n",
       " 'DIVINOL<c2>NDIA',\n",
       " 'GUZOL<c2>NDIA',\n",
       " 'HERCUL<c2>NDIA',\n",
       " 'IBI<da>NA',\n",
       " 'IN<da>BIA PAULISTA',\n",
       " 'IPE<da>NA',\n",
       " 'JAGUARI<da>NA',\n",
       " 'JA<da>',\n",
       " 'J<da>LIO MESQUITA',\n",
       " 'LUÍS ANT<d4>NIO',\n",
       " 'LUIZI<c2>NIA',\n",
       " 'MACED<d4>NIA',\n",
       " 'MIRASSOL<c2>NDIA',\n",
       " 'MONÇ<d5>ES',\n",
       " 'NOVA LUZIT<c2>NIA',\n",
       " 'ORINDI<da>VA',\n",
       " 'ORL<c2>NDIA',\n",
       " 'RIOL<c2>NDIA',\n",
       " 'SANTA L<da>CIA',\n",
       " 'SANTO ANT<d4>NIO DA ALEGRIA',\n",
       " 'SANTO ANT<d4>NIO DE POSSE',\n",
       " 'SANTO ANT<d4>NIO DO JARDIM',\n",
       " 'SANTO ANT<d4>NIO DO PINHAL',\n",
       " 'TAI<da>VA',\n",
       " 'TAMBA<da>',\n",
       " 'TURI<da>BA',\n",
       " 'UR<c2>NIA',\n",
       " 'GUILHERME CAMPOS J<da>NIOR',\n",
       " 'SAMUEL MOREIRA DA SILVA J<da>NIOR',\n",
       " 'GUILHERME CAMPOS J<da>NIOR',\n",
       " 'SAMUEL MOREIRA DA SILVA J<da>NIOR',\n",
       " 'S<c2>MIA BOMFIM',\n",
       " 'PARTIDO DA REP<da>BLICA',\n",
       " 'ColigaÇ<e3>o PSB, PTB, PPS, PSC',\n",
       " 'ColigaÇ<e3>o MobilizaÇ<e3>o Sustent<e1>vel por S<e3>o Paulo',\n",
       " 'VI<da>VO(A)',\n",
       " 'SERVIDOR P<da>BLICO FEDERAL',\n",
       " 'SERVIDOR P<da>BLICO ESTADUAL',\n",
       " 'SERVIDOR P<da>BLICO MUNICIPAL',\n",
       " 'TRABALHADOR METAL<da>RGICO E SIDER<da>RGICO',\n",
       " 'APOSENTADO (EXCETO SERVIDOR P<da>BLICO)']"
      ]
     },
     "execution_count": 13,
     "metadata": {},
     "output_type": "execute_result"
    }
   ],
   "source": [
    "# vamos descobrir a correspondência dos acentos que sobraram\n",
    "\n",
    "lista = []\n",
    "for nome in nomes: \n",
    "    if \"<\" in nome:\n",
    "        lista.append(nome)\n",
    "lista"
   ]
  },
  {
   "cell_type": "code",
   "execution_count": 14,
   "metadata": {
    "ExecuteTime": {
     "end_time": "2020-06-25T17:20:00.122967Z",
     "start_time": "2020-06-25T17:19:29.325037Z"
    }
   },
   "outputs": [
    {
     "data": {
      "text/plain": [
       "array(['e1'], dtype=object)"
      ]
     },
     "execution_count": 14,
     "metadata": {},
     "output_type": "execute_result"
    }
   ],
   "source": [
    "# adicionando a correspondência no dicionário\n",
    "acentos['<d5>'] = 'Õ'\n",
    "acentos['<e3>'] = 'Ã'\n",
    "acentos['<da>'] = 'Ú'\n",
    "acentos['<c2>'] = 'Â'\n",
    "acentos['<d4>'] = 'Ô'\n",
    "\n",
    "\n",
    "# rodando tudo de novo:\n",
    "\n",
    "\n",
    "# loop que, para cada coluna, substitui os acentos do dicionário \"acentos\"\n",
    "for i in colunas_texto:\n",
    "    for key, value in acentos.items():\n",
    "        df.loc[:,i] = df.loc[:,i].str.replace(key, value)\n",
    "    \n",
    "    \n",
    "# vamos fazer uma lista dos nomes\n",
    "nomes = []\n",
    "for coluna in colunas_texto:\n",
    "    nomes.append(df.loc[:,coluna].unique())\n",
    "\n",
    "# planificando a lista\n",
    "nomes = [x for l in nomes for x in l]\n",
    "\n",
    "\n",
    "# como os códigos vem sempre em formato <código>, vamos procurar por \"<\"\n",
    "codigos = []\n",
    "lista = []\n",
    "for nome in nomes: \n",
    "    if \"<\" in nome:\n",
    "        codigos.append(nome.split(\"<\")[1].split('>')[0])\n",
    "        lista.append(nome)\n",
    "        \n",
    "pd.Series(codigos).unique()"
   ]
  },
  {
   "cell_type": "markdown",
   "metadata": {},
   "source": [
    "#### Quase pronto! Só faltou o e1"
   ]
  },
  {
   "cell_type": "code",
   "execution_count": 15,
   "metadata": {
    "ExecuteTime": {
     "end_time": "2020-06-25T17:20:31.673652Z",
     "start_time": "2020-06-25T17:20:00.125967Z"
    }
   },
   "outputs": [
    {
     "data": {
      "text/plain": [
       "array([], dtype=float64)"
      ]
     },
     "execution_count": 15,
     "metadata": {},
     "output_type": "execute_result"
    }
   ],
   "source": [
    "# adicionando a correspondência no dicionário\n",
    "acentos['<e1>'] = 'Á'\n",
    "\n",
    "\n",
    "\n",
    "# rodando tudo de novo:\n",
    "\n",
    "\n",
    "# loop que, para cada coluna, substitui os acentos do dicionário \"acentos\"\n",
    "for i in colunas_texto:\n",
    "    for key, value in acentos.items():\n",
    "        df.loc[:,i] = df.loc[:,i].str.replace(key, value)\n",
    "    \n",
    "    \n",
    "# vamos fazer uma lista dos nomes\n",
    "nomes = []\n",
    "for coluna in colunas_texto:\n",
    "    nomes.append(df.loc[:,coluna].unique())\n",
    "\n",
    "# planificando a lista\n",
    "nomes = [x for l in nomes for x in l]\n",
    "\n",
    "\n",
    "# como os códigos vem sempre em formato <código>, vamos procurar por \"<\"\n",
    "codigos = []\n",
    "lista = []\n",
    "for nome in nomes: \n",
    "    if \"<\" in nome:\n",
    "        codigos.append(nome.split(\"<\")[1].split('>')[0])\n",
    "        lista.append(nome)\n",
    "        \n",
    "pd.Series(codigos).unique()"
   ]
  },
  {
   "cell_type": "markdown",
   "metadata": {},
   "source": [
    "### Perfeito! Vamos guardar o resultado como \"Tudo Acentuado Finalmente\""
   ]
  },
  {
   "cell_type": "code",
   "execution_count": 16,
   "metadata": {
    "ExecuteTime": {
     "end_time": "2020-06-25T17:20:36.164185Z",
     "start_time": "2020-06-25T17:20:31.676649Z"
    }
   },
   "outputs": [],
   "source": [
    "df.to_csv(\".\\\\Bases de dado intermediárias\\\\Tudo Acentuado Finalmente.csv\")"
   ]
  }
 ],
 "metadata": {
  "kernelspec": {
   "display_name": "Python 3",
   "language": "python",
   "name": "python3"
  },
  "language_info": {
   "codemirror_mode": {
    "name": "ipython",
    "version": 3
   },
   "file_extension": ".py",
   "mimetype": "text/x-python",
   "name": "python",
   "nbconvert_exporter": "python",
   "pygments_lexer": "ipython3",
   "version": "3.7.4"
  }
 },
 "nbformat": 4,
 "nbformat_minor": 2
}
